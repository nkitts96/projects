{
 "cells": [
  {
   "cell_type": "code",
   "execution_count": 1,
   "metadata": {},
   "outputs": [],
   "source": [
    "import numpy as np\n",
    "import matplotlib.pyplot as plt\n",
    "from scipy.optimize import leastsq\n",
    "import pandas as pd"
   ]
  },
  {
   "cell_type": "code",
   "execution_count": 25,
   "metadata": {},
   "outputs": [
    {
     "name": "stdout",
     "output_type": "stream",
     "text": [
      "[4.99999999 3.         3.        ]\n",
      "[-1.42981106e+06  1.00000000e+00  1.72677757e+02]\n",
      "3.7269449679189215e-20\n",
      "13911412.03960576\n"
     ]
    },
    {
     "data": {
      "text/plain": [
       "<matplotlib.legend.Legend at 0x1de79c8a188>"
      ]
     },
     "execution_count": 25,
     "metadata": {},
     "output_type": "execute_result"
    },
    {
     "data": {
      "image/png": "[encoded data removed]",
      "text/plain": [
       "<Figure size 432x288 with 1 Axes>"
      ]
     },
     "metadata": {
      "needs_background": "light"
     },
     "output_type": "display_data"
    }
   ],
   "source": [
    "data = np.genfromtxt(\"./dataTempAndPressure.csv\")\n",
    "temp = np.genfromtxt(\"./tempData.csv\")\n",
    "pressure = np.genfromtxt(\"./pressureData.csv\")\n",
    "\n",
    "def fixData(arr):\n",
    "    newData = []\n",
    "    for i in range(1, len(arr)):\n",
    "        newData.append(arr[i])\n",
    "    return np.array(newData)\n",
    "data = fixData(data)\n",
    "temp = fixData(temp)\n",
    "pressure = fixData(pressure)\n",
    "\n",
    "def mainModel(coeffs, P, T):\n",
    "    return coeffs[0] + coeffs[1] * T + coeffs[2] * T * P\n",
    "\n",
    "def secondModel(coeffs, P, T):\n",
    "    return coeffs[0] + coeffs[2] * T ** 2\n",
    "\n",
    "def residuals(coeffs, func, P, T, data):\n",
    "    return data - func(coeffs, P, T)\n",
    "\n",
    "coeffsGuess = [1, 1, 1]\n",
    "coeffsOpt, _ = leastsq(residuals, coeffsGuess, args=(mainModel, pressure, temp, data))\n",
    "coeffsOpt2, _ = leastsq(residuals, coeffsGuess, args=(secondModel, pressure, temp, data))\n",
    "\n",
    "def minSquare(func, coeffsOpt):\n",
    "    return sum((func(coeffsOpt, pressure, temp) - data) ** 2)\n",
    "\n",
    "print(coeffsOpt)\n",
    "print(coeffsOpt2)\n",
    "print(minSquare(mainModel, coeffsOpt))\n",
    "print(minSquare(secondModel, coeffsOpt2))\n",
    "plt.scatter(temp, data, label='exp')\n",
    "plt.plot(temp, mainModel(coeffsOpt, pressure, temp,), label='main')\n",
    "plt.plot(temp, secondModel(coeffsOpt2, pressure, temp), label='second')\n",
    "plt.legend()\n",
    "\n"
   ]
  },
  {
   "cell_type": "code",
   "execution_count": null,
   "metadata": {},
   "outputs": [],
   "source": []
  },
  {
   "cell_type": "code",
   "execution_count": null,
   "metadata": {},
   "outputs": [],
   "source": []
  },
  {
   "cell_type": "code",
   "execution_count": null,
   "metadata": {},
   "outputs": [],
   "source": []
  }
 ],
 "metadata": {
  "kernelspec": {
   "display_name": "Python 3",
   "language": "python",
   "name": "python3"
  },
  "language_info": {
   "codemirror_mode": {
    "name": "ipython",
    "version": 3
   },
   "file_extension": ".py",
   "mimetype": "text/x-python",
   "name": "python",
   "nbconvert_exporter": "python",
   "pygments_lexer": "ipython3",
   "version": "3.7.4"
  }
 },
 "nbformat": 4,
 "nbformat_minor": 2
}
