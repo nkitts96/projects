{
 "cells": [
  {
   "cell_type": "code",
   "execution_count": 12,
   "metadata": {},
   "outputs": [],
   "source": [
    "def pressure_IG_RK(V=5, T=298, ideal=False):\n",
    "    \"\"\"\n",
    "    Calculates the pressure (Pa) of a gas based on the input molar volume (l/mol) and Temperature (K)\n",
    "    Uses either the ideal gas or Redlich-Kwong equation of State\n",
    "\n",
    "    \"\"\"\n",
    "    R= 0.0821 # L*atm/(mol*K)\n",
    "    Pc= 37.2 # atm\n",
    "    Tc= 132.5 # K\n",
    "\n",
    "    #V= 5 #L/mol\n",
    "    #T= 500 # K\n",
    "\n",
    "    a= .042748*R**2*Tc**2.5/Pc\n",
    "    b = .08664*R*Tc/Pc\n",
    "\n",
    "    # Equations of State\n",
    "    P_ig = R*T/V #atm\n",
    "    P_rk = R*T/(V-b) - a/(V*(V+b)*T**0.5)\n",
    "\n",
    "    # Convert to kpa\n",
    "    P_ig = P_ig*101.325\n",
    "    P_rk = P_rk*101.325\n",
    "\n",
    "    if ideal:\n",
    "        P = P_ig\n",
    "    else:\n",
    "        P = P_rk\n",
    "\n",
    "    return P"
   ]
  },
  {
   "cell_type": "code",
   "execution_count": 18,
   "metadata": {},
   "outputs": [
    {
     "name": "stdout",
     "output_type": "stream",
     "text": [
      "At V = 5 L/mol ant T = 490 K\n",
      "    P= 815.2406850000002 Pa (ideal)\n",
      "    P= 819.1075221157412 Pa (R-K)\n",
      "At V = 5 L/mol ant T = 500 K\n",
      "    P= 831.8782500000001 Pa (ideal)\n",
      "    P= 835.8326876280686 Pa (R-K)\n",
      "At V = 5 L/mol ant T = 510 K\n",
      "    P= 848.5158150000001 Pa (ideal)\n",
      "    P= 852.5577684287075 Pa (R-K)\n",
      "At V = 5 L/mol ant T = 520 K\n",
      "    P= 865.15338 Pa (ideal)\n",
      "    P= 869.2827686102386 Pa (R-K)\n",
      "At V = 5 L/mol ant T = 530 K\n",
      "    P= 881.7909450000001 Pa (ideal)\n",
      "    P= 886.0076919936781 Pa (R-K)\n",
      "At V = 7 L/mol ant T = 490 K\n",
      "    P= 582.314775 Pa (ideal)\n",
      "    P= 584.2843631854828 Pa (R-K)\n",
      "At V = 7 L/mol ant T = 500 K\n",
      "    P= 594.19875 Pa (ideal)\n",
      "    P= 596.2129716169586 Pa (R-K)\n",
      "At V = 7 L/mol ant T = 510 K\n",
      "    P= 606.082725 Pa (ideal)\n",
      "    P= 608.1415367658384 Pa (R-K)\n",
      "At V = 7 L/mol ant T = 520 K\n",
      "    P= 617.9667000000001 Pa (ideal)\n",
      "    P= 620.0700607231856 Pa (R-K)\n",
      "At V = 7 L/mol ant T = 530 K\n",
      "    P= 629.850675 Pa (ideal)\n",
      "    P= 631.9985454413105 Pa (R-K)\n",
      "At V = 9 L/mol ant T = 490 K\n",
      "    P= 452.91149166666673 Pa (ideal)\n",
      "    P= 454.101868132258 Pa (R-K)\n",
      "At V = 9 L/mol ant T = 500 K\n",
      "    P= 462.1545833333334 Pa (ideal)\n",
      "    P= 463.3719399167155 Pa (R-K)\n",
      "At V = 9 L/mol ant T = 510 K\n",
      "    P= 471.39767500000005 Pa (ideal)\n",
      "    P= 472.64198549687393 Pa (R-K)\n",
      "At V = 9 L/mol ant T = 520 K\n",
      "    P= 480.6407666666667 Pa (ideal)\n",
      "    P= 481.91200613871183 Pa (R-K)\n",
      "At V = 9 L/mol ant T = 530 K\n",
      "    P= 489.88385833333336 Pa (ideal)\n",
      "    P= 491.1820030242039 Pa (R-K)\n",
      "At V = 11 L/mol ant T = 490 K\n",
      "    P= 370.5639477272728 Pa (ideal)\n",
      "    P= 371.3603420612908 Pa (R-K)\n",
      "At V = 11 L/mol ant T = 500 K\n",
      "    P= 378.12647727272736 Pa (ideal)\n",
      "    P= 378.9409240192374 Pa (R-K)\n",
      "At V = 11 L/mol ant T = 510 K\n",
      "    P= 385.68900681818184 Pa (ideal)\n",
      "    P= 386.5214884265053 Pa (R-K)\n",
      "At V = 11 L/mol ant T = 520 K\n",
      "    P= 393.2515363636364 Pa (ideal)\n",
      "    P= 394.10203613100055 Pa (R-K)\n",
      "At V = 11 L/mol ant T = 530 K\n",
      "    P= 400.81406590909097 Pa (ideal)\n",
      "    P= 401.6825679243664 Pa (R-K)\n"
     ]
    }
   ],
   "source": [
    "pressure_IG_RK(6,500,False)\n",
    "\n",
    "for V in range(5,12,2):\n",
    "    for T in range(490,532,10):\n",
    "        print(\"At V = {} L/mol ant T = {} K\".format(V,T))\n",
    "        print(\"    P= {} Pa (ideal)\".format(pressure_IG_RK(V=V, T=T, ideal=True)))\n",
    "        print(\"    P= {} Pa (R-K)\".format(pressure_IG_RK(V=V, T=T, ideal=False)))"
   ]
  },
  {
   "cell_type": "code",
   "execution_count": 7,
   "metadata": {},
   "outputs": [
    {
     "name": "stdout",
     "output_type": "stream",
     "text": [
      "The ideal gas Pressure: 831.8782500000001 Pa\n",
      "The Redlich-Kwong pressure: 835.8326876280686 Pa\n"
     ]
    }
   ],
   "source": [
    "print(\"The ideal gas Pressure: {} Pa\".format(P_ig))\n",
    "print(\"The Redlich-Kwong pressure: {} Pa\".format(P_rk))"
   ]
  },
  {
   "cell_type": "code",
   "execution_count": null,
   "metadata": {},
   "outputs": [],
   "source": []
  }
 ],
 "metadata": {
  "kernelspec": {
   "display_name": "Python 3",
   "language": "python",
   "name": "python3"
  },
  "language_info": {
   "codemirror_mode": {
    "name": "ipython",
    "version": 3
   },
   "file_extension": ".py",
   "mimetype": "text/x-python",
   "name": "python",
   "nbconvert_exporter": "python",
   "pygments_lexer": "ipython3",
   "version": "3.7.4"
  }
 },
 "nbformat": 4,
 "nbformat_minor": 2
}
